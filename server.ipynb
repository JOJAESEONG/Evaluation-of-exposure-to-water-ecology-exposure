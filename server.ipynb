{
 "cells": [
  {
   "cell_type": "code",
   "execution_count": 26,
   "metadata": {},
   "outputs": [
    {
     "name": "stdout",
     "output_type": "stream",
     "text": [
      "Collecting locust\n",
      "  Downloading locust-2.13.0-py3-none-any.whl (823 kB)\n",
      "Collecting Werkzeug>=2.0.0\n",
      "  Downloading Werkzeug-2.2.2-py3-none-any.whl (232 kB)\n",
      "Collecting typing-extensions>=3.7.4.3\n",
      "  Using cached typing_extensions-4.4.0-py3-none-any.whl (26 kB)\n",
      "Requirement already satisfied: pywin32 in c:\\users\\picop\\appdata\\local\\programs\\python\\python39\\lib\\site-packages (from locust) (305)\n",
      "Collecting gevent>=20.12.1\n",
      "  Downloading gevent-22.10.2-cp39-cp39-win_amd64.whl (1.5 MB)\n",
      "Collecting msgpack>=0.6.2\n",
      "  Downloading msgpack-1.0.4-cp39-cp39-win_amd64.whl (62 kB)\n",
      "Requirement already satisfied: pyzmq!=23.0.0,>=22.2.1 in c:\\users\\picop\\appdata\\local\\programs\\python\\python39\\lib\\site-packages (from locust) (24.0.1)\n",
      "Requirement already satisfied: psutil>=5.6.7 in c:\\users\\picop\\appdata\\local\\programs\\python\\python39\\lib\\site-packages (from locust) (5.9.4)\n",
      "Collecting Flask-BasicAuth>=0.2.0\n",
      "  Downloading Flask-BasicAuth-0.2.0.tar.gz (16 kB)\n",
      "Collecting Flask-Cors>=3.0.10\n",
      "  Using cached Flask_Cors-3.0.10-py2.py3-none-any.whl (14 kB)\n",
      "Collecting roundrobin>=0.0.2\n",
      "  Downloading roundrobin-0.0.4.tar.gz (3.4 kB)\n",
      "Collecting requests>=2.23.0\n",
      "  Using cached requests-2.28.1-py3-none-any.whl (62 kB)\n",
      "Collecting ConfigArgParse>=1.0\n",
      "  Downloading ConfigArgParse-1.5.3-py3-none-any.whl (20 kB)\n",
      "Collecting flask>=2.0.0\n",
      "  Downloading Flask-2.2.2-py3-none-any.whl (101 kB)\n",
      "Collecting geventhttpclient>=2.0.2\n",
      "  Downloading geventhttpclient-2.0.8-cp39-cp39-win_amd64.whl (39 kB)\n",
      "Requirement already satisfied: importlib-metadata>=3.6.0 in c:\\users\\picop\\appdata\\local\\programs\\python\\python39\\lib\\site-packages (from flask>=2.0.0->locust) (5.0.0)\n",
      "Requirement already satisfied: Jinja2>=3.0 in c:\\users\\picop\\appdata\\local\\programs\\python\\python39\\lib\\site-packages (from flask>=2.0.0->locust) (3.1.2)\n",
      "Collecting itsdangerous>=2.0\n",
      "  Downloading itsdangerous-2.1.2-py3-none-any.whl (15 kB)\n",
      "Collecting click>=8.0\n",
      "  Using cached click-8.1.3-py3-none-any.whl (96 kB)\n",
      "Requirement already satisfied: colorama in c:\\users\\picop\\appdata\\local\\programs\\python\\python39\\lib\\site-packages (from click>=8.0->flask>=2.0.0->locust) (0.4.6)\n",
      "Requirement already satisfied: Six in c:\\users\\picop\\appdata\\local\\programs\\python\\python39\\lib\\site-packages (from Flask-Cors>=3.0.10->locust) (1.16.0)\n",
      "Collecting zope.interface\n",
      "  Downloading zope.interface-5.5.2-cp39-cp39-win_amd64.whl (211 kB)\n",
      "Requirement already satisfied: cffi>=1.12.2 in c:\\users\\picop\\appdata\\local\\programs\\python\\python39\\lib\\site-packages (from gevent>=20.12.1->locust) (1.15.1)\n",
      "Requirement already satisfied: setuptools in c:\\users\\picop\\appdata\\local\\programs\\python\\python39\\lib\\site-packages (from gevent>=20.12.1->locust) (56.0.0)\n",
      "Collecting zope.event\n",
      "  Downloading zope.event-4.5.0-py2.py3-none-any.whl (6.8 kB)\n",
      "Collecting greenlet>=2.0.0\n",
      "  Downloading greenlet-2.0.1-cp39-cp39-win_amd64.whl (190 kB)\n",
      "Requirement already satisfied: pycparser in c:\\users\\picop\\appdata\\local\\programs\\python\\python39\\lib\\site-packages (from cffi>=1.12.2->gevent>=20.12.1->locust) (2.21)\n",
      "Collecting brotli\n",
      "  Downloading Brotli-1.0.9-cp39-cp39-win_amd64.whl (383 kB)\n",
      "Collecting certifi\n",
      "  Using cached certifi-2022.9.24-py3-none-any.whl (161 kB)\n",
      "Requirement already satisfied: zipp>=0.5 in c:\\users\\picop\\appdata\\local\\programs\\python\\python39\\lib\\site-packages (from importlib-metadata>=3.6.0->flask>=2.0.0->locust) (3.10.0)\n",
      "Requirement already satisfied: MarkupSafe>=2.0 in c:\\users\\picop\\appdata\\local\\programs\\python\\python39\\lib\\site-packages (from Jinja2>=3.0->flask>=2.0.0->locust) (2.1.1)\n",
      "Requirement already satisfied: idna<4,>=2.5 in c:\\users\\picop\\appdata\\local\\programs\\python\\python39\\lib\\site-packages (from requests>=2.23.0->locust) (3.4)\n",
      "Collecting urllib3<1.27,>=1.21.1\n",
      "  Downloading urllib3-1.26.13-py2.py3-none-any.whl (140 kB)\n",
      "Collecting charset-normalizer<3,>=2\n",
      "  Using cached charset_normalizer-2.1.1-py3-none-any.whl (39 kB)\n",
      "Using legacy 'setup.py install' for Flask-BasicAuth, since package 'wheel' is not installed.\n",
      "Using legacy 'setup.py install' for roundrobin, since package 'wheel' is not installed.\n",
      "Installing collected packages: zope.interface, zope.event, Werkzeug, itsdangerous, greenlet, click, urllib3, gevent, flask, charset-normalizer, certifi, brotli, typing-extensions, roundrobin, requests, msgpack, geventhttpclient, Flask-Cors, Flask-BasicAuth, ConfigArgParse, locust\n",
      "    Running setup.py install for roundrobin: started\n",
      "    Running setup.py install for roundrobin: finished with status 'done'\n",
      "    Running setup.py install for Flask-BasicAuth: started\n",
      "    Running setup.py install for Flask-BasicAuth: finished with status 'done'\n",
      "Successfully installed ConfigArgParse-1.5.3 Flask-BasicAuth-0.2.0 Flask-Cors-3.0.10 Werkzeug-2.2.2 brotli-1.0.9 certifi-2022.9.24 charset-normalizer-2.1.1 click-8.1.3 flask-2.2.2 gevent-22.10.2 geventhttpclient-2.0.8 greenlet-2.0.1 itsdangerous-2.1.2 locust-2.13.0 msgpack-1.0.4 requests-2.28.1 roundrobin-0.0.4 typing-extensions-4.4.0 urllib3-1.26.13 zope.event-4.5.0 zope.interface-5.5.2\n",
      "Note: you may need to restart the kernel to use updated packages.\n"
     ]
    },
    {
     "name": "stderr",
     "output_type": "stream",
     "text": [
      "WARNING: You are using pip version 21.1.3; however, version 22.3.1 is available.\n",
      "You should consider upgrading via the 'c:\\Users\\picop\\AppData\\Local\\Programs\\Python\\Python39\\python.exe -m pip install --upgrade pip' command.\n"
     ]
    }
   ],
   "source": []
  },
  {
   "cell_type": "code",
   "execution_count": null,
   "metadata": {},
   "outputs": [],
   "source": []
  }
 ],
 "metadata": {
  "kernelspec": {
   "display_name": "Python 3.9.6 64-bit",
   "language": "python",
   "name": "python3"
  },
  "language_info": {
   "codemirror_mode": {
    "name": "ipython",
    "version": 3
   },
   "file_extension": ".py",
   "mimetype": "text/x-python",
   "name": "python",
   "nbconvert_exporter": "python",
   "pygments_lexer": "ipython3",
   "version": "3.9.6"
  },
  "orig_nbformat": 4,
  "vscode": {
   "interpreter": {
    "hash": "8f811ba0493748f60371506cd47a632d364167b10e2e28d4a2975a442355fad1"
   }
  }
 },
 "nbformat": 4,
 "nbformat_minor": 2
}

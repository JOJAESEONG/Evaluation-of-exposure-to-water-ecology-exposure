{
 "cells": [
  {
   "cell_type": "code",
   "execution_count": 7,
   "metadata": {},
   "outputs": [],
   "source": [
    "import pickle\n",
    "import os\n",
    "path = os.getcwd()\n",
    "import geopandas as gpd # GeoPandas(지오판다스)\n",
    "import numpy as np"
   ]
  },
  {
   "cell_type": "code",
   "execution_count": 8,
   "metadata": {},
   "outputs": [
    {
     "ename": "AttributeError",
     "evalue": "Can't get attribute '_unpickle_block' on <module 'pandas._libs.internals' from 'c:\\\\Users\\\\picop\\\\anaconda3\\\\envs\\\\test\\\\lib\\\\site-packages\\\\pandas\\\\_libs\\\\internals.cp37-win_amd64.pyd'>",
     "output_type": "error",
     "traceback": [
      "\u001b[1;31m---------------------------------------------------------------------------\u001b[0m",
      "\u001b[1;31mAttributeError\u001b[0m                            Traceback (most recent call last)",
      "\u001b[1;32m~\\AppData\\Local\\Temp\\ipykernel_24564\\976224504.py\u001b[0m in \u001b[0;36m<module>\u001b[1;34m\u001b[0m\n\u001b[0;32m     46\u001b[0m \u001b[1;33m\u001b[0m\u001b[0m\n\u001b[0;32m     47\u001b[0m \u001b[1;33m\u001b[0m\u001b[0m\n\u001b[1;32m---> 48\u001b[1;33m \u001b[0mline_gdf_rtime\u001b[0m \u001b[1;33m=\u001b[0m \u001b[0mpickle\u001b[0m\u001b[1;33m.\u001b[0m\u001b[0mload\u001b[0m\u001b[1;33m(\u001b[0m\u001b[0mopen\u001b[0m\u001b[1;33m(\u001b[0m\u001b[0mos\u001b[0m\u001b[1;33m.\u001b[0m\u001b[0mpath\u001b[0m\u001b[1;33m.\u001b[0m\u001b[0mjoin\u001b[0m\u001b[1;33m(\u001b[0m\u001b[0mpath\u001b[0m\u001b[1;33m,\u001b[0m\u001b[1;34m\"data\"\u001b[0m\u001b[1;33m,\u001b[0m\u001b[1;34m\"lind_gdf_rtime.p\"\u001b[0m\u001b[1;33m,\u001b[0m\u001b[1;33m)\u001b[0m\u001b[1;33m,\u001b[0m \u001b[1;34m\"rb\"\u001b[0m\u001b[1;33m)\u001b[0m\u001b[1;33m)\u001b[0m\u001b[1;33m\u001b[0m\u001b[1;33m\u001b[0m\u001b[0m\n\u001b[0m\u001b[0;32m     49\u001b[0m \u001b[0mstp_gdf_info\u001b[0m \u001b[1;33m=\u001b[0m \u001b[0mpickle\u001b[0m\u001b[1;33m.\u001b[0m\u001b[0mload\u001b[0m\u001b[1;33m(\u001b[0m\u001b[0mopen\u001b[0m\u001b[1;33m(\u001b[0m\u001b[0mos\u001b[0m\u001b[1;33m.\u001b[0m\u001b[0mpath\u001b[0m\u001b[1;33m.\u001b[0m\u001b[0mjoin\u001b[0m\u001b[1;33m(\u001b[0m\u001b[0mpath\u001b[0m\u001b[1;33m,\u001b[0m\u001b[1;34m\"data\"\u001b[0m\u001b[1;33m,\u001b[0m\u001b[1;34m\"stp_gdf_pop.p\"\u001b[0m\u001b[1;33m,\u001b[0m\u001b[1;33m)\u001b[0m\u001b[1;33m,\u001b[0m \u001b[1;34m\"rb\"\u001b[0m\u001b[1;33m)\u001b[0m\u001b[1;33m)\u001b[0m\u001b[1;33m\u001b[0m\u001b[1;33m\u001b[0m\u001b[0m\n\u001b[0;32m     50\u001b[0m \u001b[1;33m\u001b[0m\u001b[0m\n",
      "\u001b[1;31mAttributeError\u001b[0m: Can't get attribute '_unpickle_block' on <module 'pandas._libs.internals' from 'c:\\\\Users\\\\picop\\\\anaconda3\\\\envs\\\\test\\\\lib\\\\site-packages\\\\pandas\\\\_libs\\\\internals.cp37-win_amd64.pyd'>"
     ]
    }
   ],
   "source": [
    "\n",
    "\n",
    "class Rich():\n",
    "    def __init__ (self, rich_did, lu_rch_did, ru_rch_did, stream_flux, c_area, geometry):\n",
    "        self.rich_did = rich_did\n",
    "        self.lu_rch_did = lu_rch_did\n",
    "        self.ru_rch_did = ru_rch_did\n",
    "        self.stream_flux = stream_flux               ## 단위 m3/s\n",
    "        self.c_area = c_area\n",
    "        self.geometry = geometry\n",
    "        self.stream_flux_estimated = None\n",
    "        self.lu_child = None\n",
    "        self.ru_child = None\n",
    "        self.stp_family = None\n",
    "        self.stp_site = False\n",
    "\n",
    "        self.parent = None\n",
    "\n",
    "        self.velocity = None                         ## 단위 m/s\n",
    "        self.velocity_estimated = None\n",
    "        self.rch_len = None\n",
    "        self.r_time = None                           ## 단위 hour\n",
    "\n",
    "        self.PEC_est = None\n",
    "        self.mass_g = None\n",
    "\n",
    "\n",
    "    \n",
    "    def take_lu_child(self,lu_rich_class,):\n",
    "        self.lu_child = lu_rich_class\n",
    "        \n",
    "\n",
    "    def take_ru_child(self,ru_rich_class,):\n",
    "        self.ru_child = ru_rich_class\n",
    "\n",
    "    def estimate_flux(self, parents_true_flux, parents_true_carea):\n",
    "        # ~np.isnan(self.stream_flux_estimated)\n",
    "        if self.stream_flux is None:\n",
    "            self.stream_flux_estimated = parents_true_flux *(self.c_area/parents_true_carea)\n",
    "\n",
    "        elif self.stream_flux is not None:\n",
    "            print('참값 있음')\n",
    "\n",
    "#### hyd_monitoring_df_filter_site_3 픽스되었다는 가정 하에 농도 추정치 계산 ####\n",
    "######## 현제 받은 데이터 STP 지점 인수구 있는것 143개인데 확인해보기\n",
    "######## ㅇ=\n",
    "\n",
    "\n",
    "\n",
    "line_gdf_rtime = pickle.load(open(os.path.join(path,\"data\",\"lind_gdf_rtime.p\",), \"rb\"))\n",
    "stp_gdf_info = pickle.load(open(os.path.join(path,\"data\",\"stp_gdf_pop.p\",), \"rb\"))\n",
    "\n",
    "k = 0.00193 # 반응속도상수 반감기 역수 h-1\n",
    "\n",
    "koc = 484800 # 사용자 입력값, L/kg\n",
    "Foc_susp = 0.1 # kg_oc*kg_solid-1\n",
    "SUSP_water = 4 # mg_solid*L_water-1\n",
    "constant_term = koc * Foc_susp * SUSP_water * (10**-6)   # 무차원 상수\n",
    "\n",
    "\n",
    "removal_ratio = 0.641 # 물질별로 계산해서 나오는 값 제거율\n",
    "base_c = 0.0000044 # 물질별로 나오는 값인것으로 알고있음, 배경농도 g/m3\n",
    "e_p = 0.000085 #인당 물질 배출량,  g/(d*명)\n",
    "\n",
    "# mass_g\n",
    "\n",
    "def cal_mass_down(stp_r, mass_g_out, k_constant):\n",
    "    if stp_r.parent is not None:\n",
    "        down_mass = mass_g_out * np.exp(-1*k_constant*stp_r.r_time) #구간 잔존률 * 위에서온 mass\n",
    "\n",
    "        if stp_r.parent.mass_g is None:\n",
    "            stp_r.parent.mass_g = down_mass  \n",
    "        else:\n",
    "            before_mass = stp_r.parent.mass_g\n",
    "            stp_r.parent.mass_g = before_mass + down_mass\n",
    "\n",
    "        cal_mass_down(stp_r.parent, down_mass, k_constant)\n",
    "    \n",
    "\n",
    "# 우선 농도계산은 하지 않고 강줄기별 mass만 계산\n",
    "for i in range(len(stp_gdf_info)):\n",
    "    i_info = stp_gdf_info.loc[i,['Effluent', '인구수', 'RCH_DID']]\n",
    "    \n",
    "    population = i_info.인구수\n",
    "    stp_r = line_gdf_rtime.loc[line_gdf_rtime.RCH_DID == i_info.RCH_DID].rich_class.values[0]\n",
    "    if stp_r.r_time is not None:\n",
    "    \n",
    "        # flux = stp_r.stream_flux*86400 if stp_r.stream_flux_estimated is None else stp_r.stream_flux_estimated*86400 #   단위 m3/s이므로 86400곱해서 일단위( m3/day)로\n",
    "        mass_g = (e_p * population)*(1-removal_ratio)  # g/day   _ 물질 배출량\n",
    "        mass_g_out = mass_g*(1-removal_ratio)/(1 + constant_term)   # 처리효과 흡착??효과 고려한 물질 out 양\n",
    "\n",
    "\n",
    "        # 총 물질량 합산 위에서 흘러온것 + stp에서 배출한 것\n",
    "        try:\n",
    "            mass_before = stp_r.mass_g\n",
    "            stp_r.mass_g = mass_before + mass_g_out  # 앞단에서 모든 강줄기에 배경농도는 미리 더해놓음\n",
    "        except:\n",
    "            stp_r.mass_g = mass_g_out\n",
    "\n",
    "\n",
    "        cal_mass_down(stp_r, mass_g_out, k)\n",
    "\n",
    "\n",
    "# 추정 유량을 통해 농도 환산\n",
    "for i in range(len(line_gdf_rtime)):\n",
    "    if ~(np.isnan(line_gdf_rtime.loc[i,'유량']) & np.isnan(line_gdf_rtime.loc[i,'est_flux'])):\n",
    "        i_r = line_gdf_rtime.loc[i,'rich_class']\n",
    "        if i_r.mass_g is not None:\n",
    "            try:\n",
    "                pec_est = i_r.mass_g / (i_r.stream_flux_estimated * 86400)  #유량단위 현재 m3/s이므로 86400곱해서 day로 환산\n",
    "            except:\n",
    "                pec_est = i_r.mass_g / (i_r.stream_flux * 86400)\n",
    "\n",
    "\n",
    "            line_gdf_rtime.loc[i,'rich_class'].PEC_est = pec_est\n",
    "            line_gdf_rtime.loc[i,'pec'] = pec_est\n",
    "\n",
    "\n",
    "gpd.GeoDataFrame(line_gdf_rtime.loc[:,['geometry_x','pec','r_time','유량','est_flux']], geometry = 'geometry_x').explore(tiles = \"CartoDB positron\", column = 'pec')"
   ]
  },
  {
   "cell_type": "code",
   "execution_count": 9,
   "metadata": {},
   "outputs": [
    {
     "ename": "AttributeError",
     "evalue": "Can't get attribute '_unpickle_block' on <module 'pandas._libs.internals' from 'c:\\\\Users\\\\picop\\\\anaconda3\\\\envs\\\\test\\\\lib\\\\site-packages\\\\pandas\\\\_libs\\\\internals.cp37-win_amd64.pyd'>",
     "output_type": "error",
     "traceback": [
      "\u001b[1;31m---------------------------------------------------------------------------\u001b[0m",
      "\u001b[1;31mAttributeError\u001b[0m                            Traceback (most recent call last)",
      "\u001b[1;32m~\\AppData\\Local\\Temp\\ipykernel_24564\\2081032079.py\u001b[0m in \u001b[0;36m<module>\u001b[1;34m\u001b[0m\n\u001b[1;32m----> 1\u001b[1;33m \u001b[0mline_gdf_rtime\u001b[0m \u001b[1;33m=\u001b[0m \u001b[0mpickle\u001b[0m\u001b[1;33m.\u001b[0m\u001b[0mload\u001b[0m\u001b[1;33m(\u001b[0m\u001b[0mopen\u001b[0m\u001b[1;33m(\u001b[0m\u001b[0mos\u001b[0m\u001b[1;33m.\u001b[0m\u001b[0mpath\u001b[0m\u001b[1;33m.\u001b[0m\u001b[0mjoin\u001b[0m\u001b[1;33m(\u001b[0m\u001b[0mpath\u001b[0m\u001b[1;33m,\u001b[0m\u001b[1;34m\"data\"\u001b[0m\u001b[1;33m,\u001b[0m\u001b[1;34m\"lind_gdf_rtime.p\"\u001b[0m\u001b[1;33m,\u001b[0m\u001b[1;33m)\u001b[0m\u001b[1;33m,\u001b[0m \u001b[1;34m\"rb\"\u001b[0m\u001b[1;33m)\u001b[0m\u001b[1;33m)\u001b[0m\u001b[1;33m\u001b[0m\u001b[1;33m\u001b[0m\u001b[0m\n\u001b[0m\u001b[0;32m      2\u001b[0m \u001b[0mstp_gdf_info\u001b[0m \u001b[1;33m=\u001b[0m \u001b[0mpickle\u001b[0m\u001b[1;33m.\u001b[0m\u001b[0mload\u001b[0m\u001b[1;33m(\u001b[0m\u001b[0mopen\u001b[0m\u001b[1;33m(\u001b[0m\u001b[0mos\u001b[0m\u001b[1;33m.\u001b[0m\u001b[0mpath\u001b[0m\u001b[1;33m.\u001b[0m\u001b[0mjoin\u001b[0m\u001b[1;33m(\u001b[0m\u001b[0mpath\u001b[0m\u001b[1;33m,\u001b[0m\u001b[1;34m\"data\"\u001b[0m\u001b[1;33m,\u001b[0m\u001b[1;34m\"stp_gdf_pop.p\"\u001b[0m\u001b[1;33m,\u001b[0m\u001b[1;33m)\u001b[0m\u001b[1;33m,\u001b[0m \u001b[1;34m\"rb\"\u001b[0m\u001b[1;33m)\u001b[0m\u001b[1;33m)\u001b[0m\u001b[1;33m\u001b[0m\u001b[1;33m\u001b[0m\u001b[0m\n",
      "\u001b[1;31mAttributeError\u001b[0m: Can't get attribute '_unpickle_block' on <module 'pandas._libs.internals' from 'c:\\\\Users\\\\picop\\\\anaconda3\\\\envs\\\\test\\\\lib\\\\site-packages\\\\pandas\\\\_libs\\\\internals.cp37-win_amd64.pyd'>"
     ]
    }
   ],
   "source": [
    "line_gdf_rtime = pickle.load(open(os.path.join(path,\"data\",\"lind_gdf_rtime.p\",), \"rb\"))\n",
    "stp_gdf_info = pickle.load(open(os.path.join(path,\"data\",\"stp_gdf_pop.p\",), \"rb\"))\n"
   ]
  }
 ],
 "metadata": {
  "kernelspec": {
   "display_name": "Python 3.7.13 ('test')",
   "language": "python",
   "name": "python3"
  },
  "language_info": {
   "codemirror_mode": {
    "name": "ipython",
    "version": 3
   },
   "file_extension": ".py",
   "mimetype": "text/x-python",
   "name": "python",
   "nbconvert_exporter": "python",
   "pygments_lexer": "ipython3",
   "version": "3.7.13"
  },
  "orig_nbformat": 4,
  "vscode": {
   "interpreter": {
    "hash": "c5470167b498ca2ecb2feb46d91627a0188483b7da6e7f2b7e8d2fe7a95a1a95"
   }
  }
 },
 "nbformat": 4,
 "nbformat_minor": 2
}

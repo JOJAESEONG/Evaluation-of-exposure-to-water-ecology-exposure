{
 "cells": [
  {
   "cell_type": "code",
   "execution_count": 3,
   "metadata": {},
   "outputs": [],
   "source": [
    "import pandas as pd\n",
    "import numpy as np\n",
    "import math"
   ]
  },
  {
   "cell_type": "code",
   "execution_count": 4,
   "metadata": {},
   "outputs": [],
   "source": [
    "data = pd.read_csv(\"STP_CAL.csv\")\n",
    "KOC = pd.read_csv(\"KOC.csv\")\n",
    "Kdeg = pd.read_csv(\"Kdeg.csv\")   "
   ]
  },
  {
   "cell_type": "code",
   "execution_count": 5,
   "metadata": {},
   "outputs": [
    {
     "name": "stdout",
     "output_type": "stream",
     "text": [
      "\n",
      "      1.   Predominantly hydrophobics\n",
      "      2.   Non hydrophobics\n",
      "      3.   Phenols, anilines, benzonitriles, nitrobenzenes\n",
      "      4.   Acetanilides, carbamates, esters, phenylureas, phosphates, triazines, triazoles, uracils\n",
      "      5.   Alcohols, organic acids\n",
      "      6.   Acetanilides\n",
      "      7.   Alcohols\n",
      "      8.   Amides\n",
      "      9.   Anilines\n",
      "      10.  Carbamates\n",
      "      11.  Dinitroanilines\n",
      "      12.  Esters\n",
      "      13.  Nitrobenzenes\n",
      "      14.  Organic acids\n",
      "      15.  Phenols, benzonitriles\n",
      "      16.  Phenylureas\n",
      "      17.  Phosphates\n",
      "      18.  Triazines\n",
      "      19.  Triazoles\n",
      "      \n"
     ]
    }
   ],
   "source": [
    "print(\"\"\"\n",
    "      1.   Predominantly hydrophobics\n",
    "      2.   Non hydrophobics\n",
    "      3.   Phenols, anilines, benzonitriles, nitrobenzenes\n",
    "      4.   Acetanilides, carbamates, esters, phenylureas, phosphates, triazines, triazoles, uracils\n",
    "      5.   Alcohols, organic acids\n",
    "      6.   Acetanilides\n",
    "      7.   Alcohols\n",
    "      8.   Amides\n",
    "      9.   Anilines\n",
    "      10.  Carbamates\n",
    "      11.  Dinitroanilines\n",
    "      12.  Esters\n",
    "      13.  Nitrobenzenes\n",
    "      14.  Organic acids\n",
    "      15.  Phenols, benzonitriles\n",
    "      16.  Phenylureas\n",
    "      17.  Phosphates\n",
    "      18.  Triazines\n",
    "      19.  Triazoles\n",
    "      \"\"\")\n",
    "\n",
    "KOC_int = int(input(\" 물질 그룹번호를 입력해주세요 : \"))\n",
    "\n",
    "Chemgroup = KOC.loc[[KOC_int-1]]\n"
   ]
  },
  {
   "cell_type": "code",
   "execution_count": 6,
   "metadata": {},
   "outputs": [
    {
     "name": "stdout",
     "output_type": "stream",
     "text": [
      "\n",
      "      1.   readily biodegradable\n",
      "      2.   readily biodegradable, failing 10-d window\n",
      "      3.   inherently biodegradable\n",
      "      4.   not biodegradable\n",
      "      \n"
     ]
    }
   ],
   "source": [
    "print(\"\"\"\n",
    "      1.   readily biodegradable\n",
    "      2.   readily biodegradable, failing 10-d window\n",
    "      3.   inherently biodegradable\n",
    "      4.   not biodegradable\n",
    "      \"\"\")\n",
    "\n",
    "Kdeg_int = int(input(\" 번호를 선택해주세요 : \"))\n",
    "\n",
    "Kdeg_cal = Kdeg.loc[[Kdeg_int -1]].to_numpy()\n",
    "Kdeg_water_per_hour = (math.log(2)/Kdeg_cal[:,1] * Kdeg_cal[:,2]**(13/10) / Kdeg_cal[:,3])/3600 \n"
   ]
  },
  {
   "cell_type": "code",
   "execution_count": 7,
   "metadata": {},
   "outputs": [
    {
     "ename": "ValueError",
     "evalue": "could not convert string to float: ''",
     "output_type": "error",
     "traceback": [
      "\u001b[1;31m---------------------------------------------------------------------------\u001b[0m",
      "\u001b[1;31mValueError\u001b[0m                                Traceback (most recent call last)",
      "Cell \u001b[1;32mIn [7], line 1\u001b[0m\n\u001b[1;32m----> 1\u001b[0m Kow_int \u001b[39m=\u001b[39m \u001b[39mfloat\u001b[39;49m(\u001b[39minput\u001b[39;49m(\u001b[39m\"\u001b[39;49m\u001b[39mKow를 입력해주세요 : \u001b[39;49m\u001b[39m\"\u001b[39;49m))\n\u001b[0;32m      3\u001b[0m \u001b[39mif\u001b[39;00m math\u001b[39m.\u001b[39mlog10(Kow_int) \u001b[39m<\u001b[39m \u001b[39m0\u001b[39m :\n\u001b[0;32m      4\u001b[0m     logKow \u001b[39m=\u001b[39m \u001b[39m0\u001b[39m\n",
      "\u001b[1;31mValueError\u001b[0m: could not convert string to float: ''"
     ]
    }
   ],
   "source": [
    "Kow_int = float(input(\"Kow를 입력해주세요 : \"))\n",
    "\n",
    "if math.log10(Kow_int) < 0 :\n",
    "    logKow = 0\n",
    "elif math.log10(Kow_int) > 6 :\n",
    "    logKow = 6\n",
    "else:\n",
    "    logKow = int(math.log10(Kow_int))"
   ]
  },
  {
   "cell_type": "code",
   "execution_count": 6,
   "metadata": {},
   "outputs": [],
   "source": [
    "# Henry Constant 계산\n",
    "# 헨리상수 = 증기압_pa / (분자량_g.mol-1 * 수용해도_mg.L-1)\n",
    "\n",
    "vaporpressure = float(input(\"증기압(Pa)를 입력해주세요 : \"))\n",
    "molcularweight = float(input(\"분자량(g/mole)을 입력해주세요 : \"))\n",
    "watersolubility = float(input(\"수용해도(mg/L)를 입력해주세요 : \"))\n",
    "\n",
    "Henry = vaporpressure / (molcularweight*watersolubility)\n",
    "\n",
    "if math.log10(Henry) < -4 :\n",
    "    logH = -4\n",
    "elif math.log10(Henry) > 5 :\n",
    "    logH = 5\n",
    "else:\n",
    "    logH = int(math.log10(Henry))\n"
   ]
  },
  {
   "cell_type": "code",
   "execution_count": 9,
   "metadata": {},
   "outputs": [
    {
     "name": "stdout",
     "output_type": "stream",
     "text": [
      "7\n",
      "93\n",
      "                   Chem_group  Koc_L.kg-1\n",
      "0  Predominantly hydrophobics        66.9\n",
      "[2.0869823564887503e-06]\n"
     ]
    }
   ],
   "source": [
    "result = data[(data.iloc[:,0] == Kdeg_int+1) & (data.iloc[:, 1] == logH) & (data.iloc[:, 2] == logKow)] \n",
    "\n",
    "out_STP_pecent = result.iloc[:,4].values[0]\n",
    "STP_removal_pecent = 100 - out_STP_pecent\n",
    "\n",
    "print (out_STP_pecent)\n",
    "print (STP_removal_pecent)\n",
    "print(Chemgroup)\n",
    "print(Kdeg_water_per_sec)"
   ]
  },
  {
   "cell_type": "code",
   "execution_count": null,
   "metadata": {},
   "outputs": [],
   "source": []
  }
 ],
 "metadata": {
  "kernelspec": {
   "display_name": "Python 3",
   "language": "python",
   "name": "python3"
  },
  "language_info": {
   "codemirror_mode": {
    "name": "ipython",
    "version": 3
   },
   "file_extension": ".py",
   "mimetype": "text/x-python",
   "name": "python",
   "nbconvert_exporter": "python",
   "pygments_lexer": "ipython3",
   "version": "3.9.6"
  },
  "orig_nbformat": 4,
  "vscode": {
   "interpreter": {
    "hash": "8f811ba0493748f60371506cd47a632d364167b10e2e28d4a2975a442355fad1"
   }
  }
 },
 "nbformat": 4,
 "nbformat_minor": 2
}
